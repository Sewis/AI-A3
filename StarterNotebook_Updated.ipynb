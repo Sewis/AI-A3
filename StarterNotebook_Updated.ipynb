{
  "nbformat": 4,
  "nbformat_minor": 0,
  "metadata": {
    "kernelspec": {
      "display_name": "Python 3",
      "language": "python",
      "name": "python3"
    },
    "language_info": {
      "codemirror_mode": {
        "name": "ipython",
        "version": 3
      },
      "file_extension": ".py",
      "mimetype": "text/x-python",
      "name": "python",
      "nbconvert_exporter": "python",
      "pygments_lexer": "ipython3",
      "version": "3.6.9"
    },
    "colab": {
      "name": "StarterNotebook_Updated.ipynb",
      "provenance": [],
      "toc_visible": true,
      "include_colab_link": true
    }
  },
  "cells": [
    {
      "cell_type": "markdown",
      "metadata": {
        "id": "view-in-github",
        "colab_type": "text"
      },
      "source": [
        "<a href=\"https://colab.research.google.com/github/Sewis/AI-A3/blob/master/StarterNotebook_Updated.ipynb\" target=\"_parent\"><img src=\"https://colab.research.google.com/assets/colab-badge.svg\" alt=\"Open In Colab\"/></a>"
      ]
    },
    {
      "cell_type": "code",
      "metadata": {
        "id": "Cx-sdvi2Leu6",
        "colab_type": "code",
        "colab": {
          "base_uri": "https://localhost:8080/",
          "height": 34
        },
        "outputId": "9d572b41-6af4-4a77-ae98-cd93e0089e44"
      },
      "source": [
        "!pip install -q catboost"
      ],
      "execution_count": 2,
      "outputs": [
        {
          "output_type": "stream",
          "text": [
            "\u001b[K     |████████████████████████████████| 64.8MB 57kB/s \n",
            "\u001b[?25h"
          ],
          "name": "stdout"
        }
      ]
    },
    {
      "cell_type": "code",
      "metadata": {
        "id": "gc1KyqdH8ezA",
        "colab_type": "code",
        "colab": {}
      },
      "source": [
        "import pandas as pd \n",
        "import numpy as np \n",
        "from tqdm import tqdm\n",
        "import math\n",
        "import gc\n",
        "from google.colab import drive"
      ],
      "execution_count": 10,
      "outputs": []
    },
    {
      "cell_type": "code",
      "metadata": {
        "id": "ofVP3MAb8ezH",
        "colab_type": "code",
        "colab": {}
      },
      "source": [
        "drive.mount('/content/drive/My Drive')\n",
        "\n",
        "train=pd.read_csv(\"/content/drive/My Drive/data/Train.csv\")\n",
        "test=pd.read_csv(\"/content/drive/My Drive/data/Test.csv\")\n",
        "sample_sub=pd.read_csv(\"/content/drive/My Drive/data/sample_sub.csv\")"
      ],
      "execution_count": 14,
      "outputs": []
    },
    {
      "cell_type": "code",
      "metadata": {
        "id": "cvst3mRH8ezK",
        "colab_type": "code",
        "colab": {}
      },
      "source": [
        "train.head()"
      ],
      "execution_count": null,
      "outputs": []
    },
    {
      "cell_type": "code",
      "metadata": {
        "id": "Tsdjhu4d8ezN",
        "colab_type": "code",
        "colab": {}
      },
      "source": [
        "test.head()"
      ],
      "execution_count": null,
      "outputs": []
    },
    {
      "cell_type": "code",
      "metadata": {
        "id": "1h0k5mL18ezP",
        "colab_type": "code",
        "colab": {}
      },
      "source": [
        "# covert features  fron string to List of values \n",
        "def replace_nan(x):\n",
        "    if x==\" \":\n",
        "        return np.nan\n",
        "    else :\n",
        "        return float(x)\n",
        "features=[\"temp\",\"precip\",\"rel_humidity\",\"wind_dir\",\"wind_spd\",\"atmos_press\"]\n",
        "for feature in features : \n",
        "    train[feature]=train[feature].apply(lambda x: [ replace_nan(X) for X in x.replace(\"nan\",\" \").split(\",\")])\n",
        "    test[feature]=test[feature].apply(lambda x: [ replace_nan(X)  for X in x.replace(\"nan\",\" \").split(\",\")])    "
      ],
      "execution_count": null,
      "outputs": []
    },
    {
      "cell_type": "markdown",
      "metadata": {
        "id": "01kGmZ2U8ezR",
        "colab_type": "text"
      },
      "source": [
        "### Features engineering part"
      ]
    },
    {
      "cell_type": "code",
      "metadata": {
        "id": "aoFT4xr38ezS",
        "colab_type": "code",
        "colab": {}
      },
      "source": [
        "def aggregate_features(x,col_name):\n",
        "    x[\"max_\"+col_name]=x[col_name].apply(np.max)\n",
        "    x[\"min_\"+col_name]=x[col_name].apply(np.min)\n",
        "    x[\"mean_\"+col_name]=x[col_name].apply(np.mean)\n",
        "    x[\"std_\"+col_name]=x[col_name].apply(np.std)\n",
        "    x[\"var_\"+col_name]=x[col_name].apply(np.var)\n",
        "    x[\"median_\"+col_name]=x[col_name].apply(np.median)\n",
        "    x[\"ptp_\"+col_name]=x[col_name].apply(np.ptp)\n",
        "    return x  \n",
        "def remove_nan_values(x):\n",
        "    return [e for e in x if not math.isnan(e)]\n"
      ],
      "execution_count": null,
      "outputs": []
    },
    {
      "cell_type": "code",
      "metadata": {
        "id": "OvcLttia8ezU",
        "colab_type": "code",
        "colab": {}
      },
      "source": [
        "data=pd.concat([train,test],sort=False).reset_index(drop=True)\n",
        "data.columns.tolist()"
      ],
      "execution_count": null,
      "outputs": []
    },
    {
      "cell_type": "code",
      "metadata": {
        "id": "EnYLWiaD8ezX",
        "colab_type": "code",
        "colab": {}
      },
      "source": [
        "data.shape"
      ],
      "execution_count": null,
      "outputs": []
    },
    {
      "cell_type": "code",
      "metadata": {
        "id": "XgeCGnP88ezZ",
        "colab_type": "code",
        "colab": {}
      },
      "source": [
        "for col_name in tqdm(features):\n",
        "    data[col_name]=data[col_name].apply(remove_nan_values)"
      ],
      "execution_count": null,
      "outputs": []
    },
    {
      "cell_type": "code",
      "metadata": {
        "id": "qrvFVfuu8ezc",
        "colab_type": "code",
        "colab": {}
      },
      "source": [
        "for col_name in tqdm(features):\n",
        "    data=aggregate_features(data,col_name)"
      ],
      "execution_count": null,
      "outputs": []
    },
    {
      "cell_type": "code",
      "metadata": {
        "id": "Y15goWtR8eze",
        "colab_type": "code",
        "colab": {}
      },
      "source": [
        "for x in range(121):\n",
        "    data[\"newtemp\"+ str(x)] = data.temp.str[x]\n",
        "    data[\"newprecip\"+ str(x)] = data.precip.str[x]\n",
        "    data[\"newrel_humidity\"+ str(x)] = data.rel_humidity.str[x]\n",
        "    data[\"newwind_dir\"+ str(x)] = data.wind_dir.str[x]\n",
        "    data[\"windspeed\"+ str(x)] = data.wind_spd.str[x]\n",
        "    data[\"atmospherepressure\"+ str(x)] = data.atmos_press.str[x]"
      ],
      "execution_count": null,
      "outputs": []
    },
    {
      "cell_type": "code",
      "metadata": {
        "id": "-tq-noUw8ezh",
        "colab_type": "code",
        "colab": {}
      },
      "source": [
        "data.drop(features,1,inplace=True)"
      ],
      "execution_count": null,
      "outputs": []
    },
    {
      "cell_type": "code",
      "metadata": {
        "id": "ITItibo48ezj",
        "colab_type": "code",
        "colab": {}
      },
      "source": [
        "train=data[data.target.notnull()].reset_index(drop=True)\n",
        "test=data[data.target.isna()].reset_index(drop=True)"
      ],
      "execution_count": null,
      "outputs": []
    },
    {
      "cell_type": "code",
      "metadata": {
        "id": "Q8D475m98ezm",
        "colab_type": "code",
        "colab": {}
      },
      "source": [
        "del data  \n",
        "gc.collect()"
      ],
      "execution_count": null,
      "outputs": []
    },
    {
      "cell_type": "code",
      "metadata": {
        "id": "DZdSBJM-8ezo",
        "colab_type": "code",
        "colab": {}
      },
      "source": [
        "train.head()"
      ],
      "execution_count": null,
      "outputs": []
    },
    {
      "cell_type": "code",
      "metadata": {
        "id": "Sz17prgd8ezq",
        "colab_type": "code",
        "colab": {}
      },
      "source": [
        "test.head()"
      ],
      "execution_count": null,
      "outputs": []
    },
    {
      "cell_type": "markdown",
      "metadata": {
        "id": "2qQT2Eu98ezs",
        "colab_type": "text"
      },
      "source": [
        "#### Cross validation strategy (Kfold,or simple train test split )"
      ]
    },
    {
      "cell_type": "code",
      "metadata": {
        "id": "6b7AdBuS8ezt",
        "colab_type": "code",
        "colab": {}
      },
      "source": [
        "Experiment_name=\"simple_model\""
      ],
      "execution_count": null,
      "outputs": []
    },
    {
      "cell_type": "code",
      "metadata": {
        "id": "OMRPgKWW8ezv",
        "colab_type": "code",
        "colab": {}
      },
      "source": [
        "import os\n",
        "os.makedirs(\"proc_data\", exist_ok=True)\n",
        "# os.makedirs(\"model_save/lgbm/{}\".format(Experiment_name), exist_ok=True)\n",
        "# os.makedirs(\"model_save/catboost/{}\".format(Experiment_name), exist_ok=True)\n",
        "# os.makedirs(\"model_save/xgboost/{}\".format(Experiment_name), exist_ok=True)"
      ],
      "execution_count": null,
      "outputs": []
    },
    {
      "cell_type": "code",
      "metadata": {
        "id": "Dwt0xtfo8ezx",
        "colab_type": "code",
        "colab": {}
      },
      "source": [
        "try : \n",
        "    folds=pd.read_csv(\"./proc_data/folds_id.csv\")\n",
        "    train=train.merge(folds,on=\"ID\",how=\"left\")\n",
        "    train.fold.nunique()\n",
        "except : \n",
        "    #  you run this cell  only for the first time \n",
        "    from sklearn.model_selection import KFold \n",
        "    kfold=KFold(n_splits=5,shuffle=True,random_state=2020) # change this random_state or all of you will have the same score  :D \n",
        "    train.reset_index(drop=True,inplace=True)\n",
        "    folds=train[[\"ID\"]].copy()\n",
        "    folds[\"fold\"]=0\n",
        "    for fold,(tr_indx,val_ind) in enumerate(kfold.split(folds)) : \n",
        "        folds.loc[val_ind,\"fold\"]=fold\n",
        "    folds.to_csv(\"./proc_data/folds_id.csv\",index=False)\n",
        "    train=train.merge(folds,on=\"ID\",how=\"left\")\n",
        "    \n",
        "    del folds"
      ],
      "execution_count": null,
      "outputs": []
    },
    {
      "cell_type": "markdown",
      "metadata": {
        "id": "x8LDmpvC8ez0",
        "colab_type": "text"
      },
      "source": [
        "### Model "
      ]
    },
    {
      "cell_type": "markdown",
      "metadata": {
        "id": "v5Olgesh8ez1",
        "colab_type": "text"
      },
      "source": [
        "### Lgbm "
      ]
    },
    {
      "cell_type": "code",
      "metadata": {
        "id": "PUBqEI7J8ez1",
        "colab_type": "code",
        "colab": {}
      },
      "source": [
        "train.columns"
      ],
      "execution_count": null,
      "outputs": []
    },
    {
      "cell_type": "code",
      "metadata": {
        "id": "-Atv8II98ez4",
        "colab_type": "code",
        "colab": {}
      },
      "source": [
        "target_name=\"target\"\n",
        "id_name=\"ID\"\n",
        "features_to_remove=[target_name,id_name,\"fold\",\"location\"]\n",
        "features=train.columns.tolist()\n",
        "features=[ fea for fea in  features if fea not in features_to_remove  ]\n"
      ],
      "execution_count": null,
      "outputs": []
    },
    {
      "cell_type": "code",
      "metadata": {
        "id": "LyKidpA28ez6",
        "colab_type": "code",
        "colab": {}
      },
      "source": [
        "from sklearn.metrics import mean_squared_error\n",
        "def metric(y,x):\n",
        "    return np.sqrt(mean_squared_error(x,y))"
      ],
      "execution_count": null,
      "outputs": []
    },
    {
      "cell_type": "code",
      "metadata": {
        "id": "LQ9YlLbx8ez9",
        "colab_type": "code",
        "colab": {}
      },
      "source": [
        "import  lightgbm as lgbm \n",
        "import xgboost as xgb \n",
        "import catboost as cat "
      ],
      "execution_count": null,
      "outputs": []
    },
    {
      "cell_type": "code",
      "metadata": {
        "id": "ya82NWuE8ez_",
        "colab_type": "code",
        "colab": {}
      },
      "source": [
        "def train_function(model,train,test,params,other_params,target_name,features,metric):\n",
        "    folds_num=train.fold.nunique()\n",
        "    validation=train[[id_name,\"fold\",target_name]].copy()\n",
        "    validation[\"pred_\"+target_name]=0\n",
        "    sub=test[[id_name]].copy()\n",
        "    sub[target_name]=0\n",
        "    for fold in np.sort(train.fold.unique()):\n",
        "        print(\"#\"*50+\" {} \".format(fold)+\"#\"*50)\n",
        "        os.makedirs(\"model_save/lgbm/{}/{}\".format(Experiment_name,str(int(fold))), exist_ok=True)\n",
        "        X_train=train[train.fold!=fold]\n",
        "        X_val=train[train.fold==fold]\n",
        "        \n",
        "        train_pred,validation_pred,test_pred=model(X_train,X_val,test,params,other_params)\n",
        "        \n",
        "        validation.loc[validation.fold==fold,\"pred_\"+target_name]=validation_pred\n",
        "        sub[target_name]+=test_pred/folds_num\n",
        "        train_score=metric(X_train[target_name],train_pred)\n",
        "        val_score=metric(X_val[target_name],validation_pred)\n",
        "        print(\"train score : {} validation score : {}\".format(round(train_score,4),round(val_score,4)))\n",
        "    final_validation_score=metric(validation[target_name],validation[\"pred_\"+target_name])\n",
        "    print(\"final validation score : {}\".format(final_validation_score))\n",
        "        \n",
        "    return sub,validation,final_validation_score\n",
        "\n",
        "def lgbm_model(X_train,X_val,X_test,params,other_params):\n",
        "    dtrain = lgbm.Dataset(data=X_train[features], label=X_train[target_name], feature_name=features)\n",
        "    dval = lgbm.Dataset(data=X_val[features], label=X_val[target_name], feature_name=features)\n",
        "\n",
        "    model = lgbm.train(\n",
        "        params=params,\n",
        "        train_set=dtrain,\n",
        "        num_boost_round=other_params[\"num_boost_round\"],\n",
        "        valid_sets=(dtrain, dval),\n",
        "        early_stopping_rounds=other_params[\"early_stopping_rounds\"],\n",
        "        verbose_eval=other_params[\"verbose_eval\"],\n",
        "    )        \n",
        "    best_iteration = model.best_iteration\n",
        "    train_pred=model.predict(X_train[features], num_iteration=best_iteration)\n",
        "    validation_pred=model.predict(X_val[features], num_iteration=best_iteration)\n",
        "    test_pred=model.predict(test[features], num_iteration=best_iteration)\n",
        "        \n",
        "    return train_pred,validation_pred,test_pred"
      ],
      "execution_count": null,
      "outputs": []
    },
    {
      "cell_type": "code",
      "metadata": {
        "id": "5TUwo7Gw8e0C",
        "colab_type": "code",
        "colab": {}
      },
      "source": [
        "other_params={\"num_boost_round\":50000000,\n",
        "              \"early_stopping_rounds\":50,\n",
        "              \"verbose_eval\":1000,\n",
        "}\n",
        "lgbm_params = {\n",
        "    \"bagging_fraction\": 0.8,\n",
        "    \"bagging_freq\": 2,\n",
        "    \"boosting_type\": \"gbdt\",\n",
        "    \"feature_fraction\": 0.8,\n",
        "    \"learning_rate\": 0.01,\n",
        "    \"max_depth\": 8,\n",
        "    \"num_threads\": 16,\n",
        "    \"objective\": \"regression\",\n",
        "    \"metric\": \"rmse\",\n",
        "    \"seed\": 2020,\n",
        "}"
      ],
      "execution_count": null,
      "outputs": []
    },
    {
      "cell_type": "code",
      "metadata": {
        "id": "BwWGarua8e0E",
        "colab_type": "code",
        "colab": {}
      },
      "source": [
        "sub,validation,score=train_function(model=lgbm_model,\n",
        "                                    train=train,\n",
        "                                    test=test,\n",
        "                                    params=lgbm_params,\n",
        "                                    other_params=other_params,\n",
        "                                    target_name=target_name,\n",
        "                                    features=features,\n",
        "                                    metric=metric)"
      ],
      "execution_count": null,
      "outputs": []
    },
    {
      "cell_type": "code",
      "metadata": {
        "id": "oMVKBS468e0G",
        "colab_type": "code",
        "colab": {}
      },
      "source": [
        "os.makedirs(\"subs\", exist_ok=True)"
      ],
      "execution_count": null,
      "outputs": []
    },
    {
      "cell_type": "code",
      "metadata": {
        "id": "4TRFBoRh8e0I",
        "colab_type": "code",
        "colab": {}
      },
      "source": [
        "sub.to_csv(\"./subs/lgbm_{}.csv\".format(round(score,2)),index=False)"
      ],
      "execution_count": null,
      "outputs": []
    }
  ]
}